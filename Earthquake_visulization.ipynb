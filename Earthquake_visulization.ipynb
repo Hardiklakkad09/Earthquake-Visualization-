{
 "cells": [
  {
   "cell_type": "code",
   "execution_count": 1,
   "metadata": {},
   "outputs": [],
   "source": [
    "import pandas as pd\n",
    "import numpy as np\n",
    "import matplotlib.pyplot as plt\n",
    "import seaborn as sns\n",
    "import cartopy.crs as ccrs\n",
    "import cartopy.feature as cfeature\n",
    "import os\n",
    "import warnings\n",
    "import seaborn as sns\n",
    "import re"
   ]
  },
  {
   "cell_type": "code",
   "execution_count": 2,
   "metadata": {},
   "outputs": [],
   "source": [
    "# load from my local drive\n",
    "earth_data = pd.read_csv('all_month.csv')\n",
    "# Description of data property and nature like nun value, dtype total value   \n",
    "earth_data.info()\n",
    "# here we count and sum of nun value\n",
    "earth_data.isnull().sum()\n",
    "# Here we fill all nun value with there median, it give normalization value during our statistic analysis \n",
    "earth_data['mag'] = earth_data['mag'].fillna(earth_data['mag'].median())\n",
    "earth_data['nst'] = earth_data['nst'].fillna(earth_data['nst'].median())\n",
    "earth_data['gap'] = earth_data['gap'].fillna(earth_data['gap'].median())\n",
    "earth_data['dmin'] = earth_data['dmin'].fillna(earth_data['dmin'].median())\n",
    "earth_data['horizontalError'] = earth_data['horizontalError'].fillna(earth_data['horizontalError'].median())\n",
    "earth_data['magError'] = earth_data['magError'].fillna(earth_data['magError'].median())\n",
    "earth_data['magNst'] = earth_data['magNst'].fillna(earth_data['magNst'].median())"
   ]
  },
  {
   "cell_type": "code",
   "execution_count": null,
   "metadata": {},
   "outputs": [],
   "source": [
    "def earthquake_data_on_map(earth_data, screen=None, screen_title='', x='longitude', y='latitude', color_col='net', full_map=True):\n",
    "    if screen is not None:\n",
    "        earth_data = earth_data[screen]\n",
    "\n",
    "    # Set up the figure and the map with Cartopy\n",
    "    fig, ax = plt.subplots(figsize=(16, 24), subplot_kw={'projection': ccrs.PlateCarree()})\n",
    "    \n",
    "    # Set the extent of the map if full_map is True\n",
    "    if full_map:\n",
    "        ax.set_extent([-180, 180, -90, 90], crs=ccrs.PlateCarree())\n",
    "\n",
    "    # Add coastlines and borders\n",
    "    ax.add_feature(cfeature.COASTLINE, linestyle='-', linewidth=1, edgecolor='grey')\n",
    "    ax.add_feature(cfeature.BORDERS, linestyle='-', linewidth=1, edgecolor='grey')\n",
    "\n",
    "    # Create scatter plot using seaborn, with x and y as strings (column names)\n",
    "    sns.scatterplot(x=x, y=y, data=earth_data, hue=earth_data[color_col], \n",
    "                    size=earth_data[color_col], alpha=0.7)\n",
    "\n",
    "    # Add title and labels\n",
    "    ax.set_title('Earthquake on Map ' + screen_title)\n",
    "    ax.text(0.5, -0.05, 'Longitude', va='center', ha='center', transform=ax.transAxes, fontsize=12)\n",
    "    ax.text(-0.05, 0.5, 'Latitude', va='center', ha='center', rotation='vertical', transform=ax.transAxes, fontsize=12)\n",
    "    \n",
    "    # A Gridlines give attractive view and direction label  \n",
    "    ax.gridlines(draw_labels=True)\n",
    "    \n",
    "    plt.legend(title=color_col, loc='best', bbox_to_anchor=(1, 1))\n",
    "\n",
    "    plt.tight_layout()\n",
    "\n",
    "    # Display the plot\n",
    "    plt.show()\n",
    "\n",
    "# Example call to the function\n",
    "earthquake_data_on_map(earth_data, screen_title='Location with Station', color_col='net')"
   ]
  },
  {
   "cell_type": "code",
   "execution_count": null,
   "metadata": {},
   "outputs": [],
   "source": [
    "# this function provide accessibility of correlation of earthquake parameters  \n",
    "def key_factor_correlation(earth_data, screen = None , screen_title = '', diag_kind = 'kde'):\n",
    "    # Here latitude, longitude and mag correlation are default \n",
    "    if screen is  None:\n",
    "        screen = ['latitude','longitude', 'mag']\n",
    "    # we can add any other value as well for correlation to each other \n",
    "    available_screen = [col for col in screen if col in earth_data.columns]\n",
    "    # Plot correlation chart with seaborn library\n",
    "   # fig, ax  = plt.subplots(figsize = (24,16))\n",
    "    sns.pairplot(earth_data[available_screen], diag_kind='kde',height = 2.5, aspect = 2)\n",
    "    plt.suptitle(f'Pair Plot of Correlation {screen} ' + screen_title, y = 1.02)\n",
    "    plt.show()\n",
    "\n",
    "key_factor_correlation(earth_data)"
   ]
  },
  {
   "cell_type": "code",
   "execution_count": null,
   "metadata": {},
   "outputs": [],
   "source": [
    "# function of pie chart give records percentage wise of each location \n",
    "### Here we avoid location of value below 0.4 percent but you can see through Earthquake location count.csv\n",
    "def earthquake_pie_plot(earth_data):\n",
    "    # This line split the location form dataset \n",
    "    pai_chart_data = earth_data['place'].str.split().str[-1].value_counts()\n",
    "    # This line avoid a value below <.04 percentage \n",
    "    pai_chart_data = pai_chart_data [(pai_chart_data/pai_chart_data.sum() * 100) >= 0.4]\n",
    "    # This line convert numerical value to percentage \n",
    "    explode = [1 if i < 0.05 else 0 for i in pai_chart_data/pai_chart_data.sum()]\n",
    "    plt.pie(pai_chart_data, explode=explode, labels = pai_chart_data.index, autopct='%1.1f%%', radius= 1.2)\n",
    "    plt.title('       Pai Chart of Earthquake Location Percentage Records', loc='left')\n",
    "    plt.show()\n",
    "    \n",
    "earthquake_pie_plot(earth_data)"
   ]
  }
 ],
 "metadata": {
  "kernelspec": {
   "display_name": "base",
   "language": "python",
   "name": "python3"
  },
  "language_info": {
   "codemirror_mode": {
    "name": "ipython",
    "version": 3
   },
   "file_extension": ".py",
   "mimetype": "text/x-python",
   "name": "python",
   "nbconvert_exporter": "python",
   "pygments_lexer": "ipython3",
   "version": "3.11.7"
  }
 },
 "nbformat": 4,
 "nbformat_minor": 2
}
